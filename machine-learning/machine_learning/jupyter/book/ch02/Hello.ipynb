{
 "cells": [
  {
   "cell_type": "code",
   "execution_count": null,
   "metadata": {
    "tags": [
     "Discrete Values"
    ]
   },
   "outputs": [],
   "source": [
    "# type: ignore\n",
    "import mglearn\n",
    "import numpy as np\n",
    "import matplotlib.pyplot as plt\n",
    "\n",
    "X, y = mglearn.datasets.make_forge()\n",
    "print()\n",
    "print(X.shape)\n",
    "print(y)\n",
    "\n",
    "print(X[:, 0])\n",
    "print(X[:, 1])\n",
    "\n",
    "mglearn.discrete_scatter(X[:, 0], X[:, 1], y)\n",
    "\n",
    "plt.legend(['Class_0', 'Class_1'], loc=4)\n",
    "plt.xlabel(\"1st label\")\n",
    "plt.ylabel(\"2nd label\")"
   ]
  },
  {
   "cell_type": "code",
   "execution_count": null,
   "metadata": {
    "tags": [
     "Continuous Values"
    ]
   },
   "outputs": [],
   "source": [
    "import mglearn.datasets\n",
    "\n",
    "X, y = mglearn.datasets.make_wave(n_samples=60)\n",
    "plt.plot(X, y, 'o')\n",
    "plt.ylim(-3, 3)\n",
    "plt.xlabel(\"Feature\")\n",
    "plt.ylabel(\"Target\")"
   ]
  }
 ],
 "metadata": {
  "kernelspec": {
   "display_name": "machine-learning--N54N8O4-py3.11",
   "language": "python",
   "name": "python3"
  },
  "language_info": {
   "codemirror_mode": {
    "name": "ipython",
    "version": 3
   },
   "file_extension": ".py",
   "mimetype": "text/x-python",
   "name": "python",
   "nbconvert_exporter": "python",
   "pygments_lexer": "ipython3",
   "version": "3.11.6"
  }
 },
 "nbformat": 4,
 "nbformat_minor": 2
}
