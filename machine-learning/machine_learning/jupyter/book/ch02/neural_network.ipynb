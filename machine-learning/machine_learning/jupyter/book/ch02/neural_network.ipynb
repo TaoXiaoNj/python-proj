{
 "cells": [
  {
   "cell_type": "code",
   "execution_count": 3,
   "metadata": {
    "tags": [
     "绘制 relu 和 tanh 曲线"
    ]
   },
   "outputs": [],
   "source": [
    "import numpy as np\n",
    "from matplotlib import pyplot as plt\n",
    "\n",
    "line = np.linspace(-3, 3, 10000)\n",
    "plt.plot(line, np.tanh(line), label='tanh')\n",
    "plt.plot(line, np.maximum(0, line), label='relu')\n",
    "plt.legend(loc='best')"
   ]
  },
  {
   "cell_type": "code",
   "execution_count": 7,
   "metadata": {
    "tags": [
     "使用单个隐层的感知机"
    ]
   },
   "outputs": [],
   "source": [
    "from sklearn.neural_network import MLPClassifier\n",
    "from sklearn.datasets import make_moons\n",
    "from sklearn.model_selection import train_test_split\n",
    "\n",
    "X, y = make_moons(n_samples=100, noise=0.25, random_state=3)\n",
    "\n",
    "X_train, X_test, y_train, y_test = train_test_split(X, y, stratify=y, random_state=42)\n",
    "\n",
    "mlp = MLPClassifier(solver='lbfgs', random_state=0)\n",
    "mlp.fit(X_train, y_train)\n",
    "\n",
    "from mglearn.plots import plot_2d_separator\n",
    "plot_2d_separator(mlp, X_train, fill=True, alpha=0.3)\n",
    "\n",
    "from mglearn import discrete_scatter\n",
    "discrete_scatter(X_train[:, 0], X_train[:, 1], y_train)"
   ]
  }
 ],
 "metadata": {
  "kernelspec": {
   "display_name": "Python 3 (ipykernel)",
   "language": "python",
   "name": "python3"
  }
 },
 "nbformat": 4,
 "nbformat_minor": 2
}
