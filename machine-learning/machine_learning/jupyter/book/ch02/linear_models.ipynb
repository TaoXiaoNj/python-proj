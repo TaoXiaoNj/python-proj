{
 "cells": [
  {
   "cell_type": "code",
   "execution_count": null,
   "metadata": {},
   "outputs": [],
   "source": [
    "# type: ignore\n",
    "\n",
    "import mglearn\n",
    "\n",
    "mglearn.plots.plot_linear_regression_wave()\n"
   ]
  },
  {
   "cell_type": "code",
   "execution_count": null,
   "metadata": {},
   "outputs": [],
   "source": [
    "## 测试标准线性回归模型\n",
    "import mglearn.datasets\n",
    "from sklearn.linear_model import LinearRegression\n",
    "from sklearn.model_selection import train_test_split\n",
    "\n",
    "X, y = mglearn.datasets.load_extended_boston() # .make_wave(n_samples=100)\n",
    "X_train, X_test, y_train, y_test = train_test_split(X, y)\n",
    "\n",
    "lr: LinearRegression = LinearRegression()\n",
    "lr.fit(X_train, y_train)\n",
    "\n",
    "print(f\"coefficiency = {lr.coef_}\")\n",
    "print(f\"intercept = {lr.intercept_}\")\n",
    "\n",
    "print(f\"Training set score: {lr.score(X_train, y_train)}\")\n",
    "print(f\"Test set score: {lr.score(X_test, y_test)}\")"
   ]
  },
  {
   "cell_type": "code",
   "execution_count": null,
   "metadata": {},
   "outputs": [],
   "source": [
    "## 测试 Ridge 线性回归模型\n",
    "import mglearn.datasets\n",
    "from sklearn.linear_model import Ridge\n",
    "from sklearn.model_selection import train_test_split\n",
    "import matplotlib.pyplot as plt\n",
    "\n",
    "X, y = mglearn.datasets.load_extended_boston() # .make_wave(n_samples=100)\n",
    "X_train, X_test, y_train, y_test = train_test_split(X, y)\n",
    "\n",
    "ridge1: Ridge = Ridge(alpha=1)\n",
    "ridge1.fit(X_train, y_train)\n",
    "\n",
    "ridge01: Ridge = Ridge(alpha=0.1)\n",
    "ridge01.fit(X_train, y_train)\n",
    "\n",
    "ridge10: Ridge = Ridge(alpha=10)\n",
    "ridge10.fit(X_train, y_train)"
   ]
  },
  {
   "cell_type": "code",
   "execution_count": null,
   "metadata": {},
   "outputs": [],
   "source": [
    "print(len(ridge1.coef_))\n",
    "print(len(ridge01.coef_))\n",
    "print(len(ridge10.coef_))\n",
    "print(len(lr.coef_))\n",
    "\n",
    "plt.plot(ridge1.coef_, 's', label = 'Ridge alpha=1')\n",
    "plt.plot(ridge01.coef_, '^', label = 'Ridge alpha=0.1')\n",
    "plt.plot(ridge10.coef_, 'v', label = 'Ridge alpha=10')\n",
    "plt.plot(lr.coef_, 'o', label = 'Linear Regression')\n",
    "\n",
    "plt.xlabel(\"Coefficient index\")\n",
    "plt.ylabel(\"Coefficient magnitude\")\n",
    "plt.hlines(0, 0, len(lr.coef_))\n",
    "plt.ylim(-25, 25)\n",
    "plt.legend()"
   ]
  },
  {
   "cell_type": "code",
   "execution_count": null,
   "metadata": {},
   "outputs": [],
   "source": [
    "# type: ignore\n",
    "from sklearn.datasets import load_breast_cancer\n",
    "from sklearn.linear_model import LogisticRegression\n",
    "\n",
    "cancer = load_breast_cancer()\n",
    "\n",
    "X_train, X_test, y_train, y_test = train_test_split(\n",
    "    cancer.data, cancer.target, stratify=cancer.target, random_state=66\n",
    ")\n",
    "\n",
    "logreg = LogisticRegression(max_iter=10000)\n",
    "logreg.fit(X_train, y_train)\n",
    "\n",
    "logreg100 = LogisticRegression(C=100, max_iter=10000)\n",
    "logreg100.fit(X_train, y_train)\n",
    "\n",
    "logreg001 = LogisticRegression(C=0.01, max_iter=10000)\n",
    "logreg001.fit(X_train, y_train)\n",
    "\n",
    "\n",
    "plt.plot(logreg.coef_.T, 'o', label='C=1')\n",
    "plt.plot(logreg100.coef_.T, '^', label='C=100')\n",
    "plt.plot(logreg001.coef_.T, 'v', label='C=0.01')\n",
    "plt.xticks(range(cancer.data.shape[1]), cancer.feature_names, rotation=90)\n",
    "plt.xlabel(\"Coefficient index\")\n",
    "plt.ylabel(\"Coefficient magnitude\")\n",
    "plt.hlines(0, 0, cancer.data.shape[1])\n",
    "plt.ylim(-5, 5)\n",
    "plt.legend()"
   ]
  }
 ],
 "metadata": {
  "kernelspec": {
   "display_name": "machine-learning--N54N8O4-py3.11",
   "language": "python",
   "name": "python3"
  },
  "language_info": {
   "codemirror_mode": {
    "name": "ipython",
    "version": 3
   },
   "file_extension": ".py",
   "mimetype": "text/x-python",
   "name": "python",
   "nbconvert_exporter": "python",
   "pygments_lexer": "ipython3",
   "version": "3.11.6"
  }
 },
 "nbformat": 4,
 "nbformat_minor": 2
}
