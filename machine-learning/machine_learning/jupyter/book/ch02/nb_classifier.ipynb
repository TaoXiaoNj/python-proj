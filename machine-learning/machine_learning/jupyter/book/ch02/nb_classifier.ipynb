{
 "cells": [
  {
   "cell_type": "code",
   "execution_count": 35,
   "metadata": {},
   "outputs": [
    {
     "name": "stdout",
     "output_type": "stream",
     "text": [
      "y == label -> [ True False  True False]\n",
      "X[y == label] -> [[0 1 0 1]\n",
      " [0 0 0 1]]\n",
      "\n",
      "y == label -> [False  True False  True]\n",
      "X[y == label] -> [[1 0 1 1]\n",
      " [1 0 1 0]]\n",
      "\n",
      "Feature counts\n",
      "{np.int64(0): array([0, 1, 0, 2]), np.int64(1): array([2, 0, 2, 1])}\n"
     ]
    }
   ],
   "source": [
    "import numpy as np;\n",
    "\n",
    "X = np.array([[0, 1, 0, 1],\n",
    "                            [1, 0, 1, 1],\n",
    "                            [0, 0, 0, 1],\n",
    "                            [1, 0, 1, 0]])\n",
    "y = np.array([0, 1, 0, 1])\n",
    "\n",
    "counts = {}\n",
    "for label in np.unique(y):\n",
    "    print(\"y == label -> {}\".format(y == label))\n",
    "    print(\"X[y == label] -> {}\\n\".format(X[y == label]))\n",
    "    counts[label] = X[y == label].sum(axis=0)\n",
    "\n",
    "print(\"Feature counts\\n{}\".format(counts))"
   ]
  },
  {
   "cell_type": "code",
   "execution_count": 29,
   "metadata": {
    "tags": [
     "Vectorized Operation "
    ]
   },
   "outputs": [
    {
     "data": {
      "text/plain": [
       "array([[False, False,  True,  True,  True,  True],\n",
       "       [False,  True,  True,  True,  True, False]])"
      ]
     },
     "execution_count": 29,
     "metadata": {},
     "output_type": "execute_result"
    }
   ],
   "source": [
    "X = np.array([[1, 2, 3, 4, 5, 6],\n",
    "              [1, 3, 5, 7, 4, 2]])\n",
    "X >= 3"
   ]
  }
 ],
 "metadata": {
  "kernelspec": {
   "display_name": "machine-learning--N54N8O4-py3.12",
   "language": "python",
   "name": "python3"
  },
  "language_info": {
   "codemirror_mode": {
    "name": "ipython",
    "version": 3
   },
   "file_extension": ".py",
   "mimetype": "text/x-python",
   "name": "python",
   "nbconvert_exporter": "python",
   "pygments_lexer": "ipython3",
   "version": "3.12.7"
  }
 },
 "nbformat": 4,
 "nbformat_minor": 2
}
