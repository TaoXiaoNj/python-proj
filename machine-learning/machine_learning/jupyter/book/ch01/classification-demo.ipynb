{
 "cells": [
  {
   "cell_type": "code",
   "execution_count": 375,
   "metadata": {},
   "outputs": [
    {
     "name": "stdout",
     "output_type": "stream",
     "text": [
      "Keys = dict_keys(['data', 'target', 'frame', 'target_names', 'DESCR', 'feature_names', 'filename', 'data_module'])\n",
      "\n",
      "\n",
      "---- target_names: <class 'numpy.ndarray'>\n",
      "['setosa' 'versicolor' 'virginica']\n",
      "\n",
      "\n",
      "---- feature_names: <class 'list'>\n",
      "['sepal length (cm)', 'sepal width (cm)', 'petal length (cm)', 'petal width (cm)']\n",
      "\n",
      "\n",
      "---- filename: <class 'str'>\n",
      "iris.csv\n",
      "\n",
      "\n",
      "---- data_module: <class 'str'>\n",
      "sklearn.datasets.data\n",
      "\n",
      "\n"
     ]
    }
   ],
   "source": [
    "from sklearn.datasets import load_iris\n",
    "import pandas as pd\n",
    "\n",
    "\n",
    "def printIrisMetaData(meta_name: str):\n",
    "    meta_data = iris_dataset[meta_name] # type: ignore\n",
    "    print(f\"---- {meta_name}: {type(meta_data)}\\n{meta_data}\\n\\n\")\n",
    "\n",
    "iris_dataset = load_iris()\n",
    "\n",
    "print(f\"Keys = {iris_dataset.keys()}\\n\\n\") # type: ignore\n",
    "printIrisMetaData('target_names')\n",
    "printIrisMetaData('feature_names')\n",
    "printIrisMetaData('filename')\n",
    "printIrisMetaData('data_module')"
   ]
  }
 ],
 "metadata": {
  "kernelspec": {
   "display_name": "Python 3 (ipykernel)",
   "language": "python",
   "name": "python3"
  },
  "language_info": {
   "codemirror_mode": {
    "name": "ipython",
    "version": 3
   },
   "file_extension": ".py",
   "mimetype": "text/x-python",
   "name": "python",
   "nbconvert_exporter": "python",
   "pygments_lexer": "ipython3",
   "version": "3.11.6"
  }
 },
 "nbformat": 4,
 "nbformat_minor": 2
}
