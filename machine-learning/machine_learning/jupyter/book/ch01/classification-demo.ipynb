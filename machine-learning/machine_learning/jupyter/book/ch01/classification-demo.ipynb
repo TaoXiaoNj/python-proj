{
 "cells": [
  {
   "cell_type": "code",
   "execution_count": null,
   "metadata": {},
   "outputs": [],
   "source": [
    "# type: ignore\n",
    "from sklearn.datasets import load_iris\n",
    "import pandas as pd\n",
    "import numpy as np\n",
    "import mglearn\n",
    "\n",
    "\n",
    "def printIrisMetaData(meta_name: str):\n",
    "    meta_data = iris_dataset[meta_name]\n",
    "    print(f\"---- {meta_name}: {type(meta_data)}\\n{meta_data}\\n\\n\")\n",
    "\n",
    "iris_dataset = load_iris()\n",
    "\n",
    "print(f\"Keys = {iris_dataset.keys()}\\n\\n\")\n",
    "printIrisMetaData('target_names')\n",
    "printIrisMetaData('feature_names')\n",
    "printIrisMetaData('filename')\n",
    "printIrisMetaData('data_module')\n",
    "printIrisMetaData('data')\n",
    "printIrisMetaData('target')\n"
   ]
  },
  {
   "cell_type": "code",
   "execution_count": null,
   "metadata": {},
   "outputs": [],
   "source": [
    "# type: ignore\n",
    "import mglearn\n",
    "\n",
    "from sklearn.model_selection import train_test_split \n",
    "\n",
    "X_train, X_test, y_train, y_test = train_test_split(\n",
    "    iris_dataset['data'], iris_dataset['target'], random_state = 0\n",
    ")\n",
    "\n",
    "\n",
    "X_train_df = pd.DataFrame(X_train, columns=iris_dataset.feature_names)\n",
    "\n",
    "pd.plotting.scatter_matrix(X_train_df, c=y_train, figsize=(12, 12), marker='o', \n",
    "                           hist_kwds={'bins': 20}, s=60, alpha=0.8, cmap=mglearn.cm3)"
   ]
  },
  {
   "cell_type": "code",
   "execution_count": null,
   "metadata": {},
   "outputs": [],
   "source": [
    "# type: ignore\n",
    "from sklearn.neighbors import KNeighborsClassifier\n",
    "\n",
    "knn = KNeighborsClassifier(n_neighbors = 1)\n",
    "knn.fit(X_train, y_train)\n",
    "\n",
    "y_prediction = knn.predict(X_test)\n",
    "print(\"True labels {}\\n\".format(y_test))\n",
    "print(\"Prediction: {}\\n\".format(y_prediction))\n",
    "print(\"Predicted labels: {}\\n\"\n",
    "      .format(iris_dataset['target_names'][y_prediction])\n",
    "      )\n",
    "\n",
    "print(\"y_prediction == y_test: {}\\n\"\n",
    "      .format(y_prediction == y_test))\n",
    "\n",
    "print(\"Test score: {:.2f}\\n\"\n",
    "      .format(np.mean(y_prediction == y_test))\n",
    "      )\n",
    "\n",
    "print(\"score: {:.2f}\\n\".format(\n",
    "    knn.score(X_test, y_test)\n",
    "))\n"
   ]
  },
  {
   "cell_type": "code",
   "execution_count": null,
   "metadata": {},
   "outputs": [],
   "source": [
    "# type: ignore\n",
    "\n",
    "import matplotlib.pylab\n",
    "import matplotlib.pyplot\n",
    "from sklearn.datasets import load_breast_cancer\n",
    "from sklearn.model_selection import train_test_split\n",
    "import matplotlib.pyplot as plt\n",
    "\n",
    "cancer = load_breast_cancer()\n",
    "X_train, X_test, y_train, y_test = train_test_split(\n",
    "    cancer.data,\n",
    "    cancer.target,\n",
    "    test_size=0.2,\n",
    "    stratify=cancer.target,\n",
    "    random_state=11\n",
    ")\n",
    "\n",
    "neighbors = range(1, 11)\n",
    "train_accuracy = []\n",
    "test_accuracy = []\n",
    "\n",
    "for n in neighbors:\n",
    "    knn = KNeighborsClassifier(n_neighbors=n)\n",
    "    knn.fit(X_train, y_train)\n",
    "\n",
    "    train_accuracy.append(knn.score(X_train, y_train))\n",
    "    test_accuracy.append(knn.score(X_test, y_test))\n",
    "\n",
    "plt.plot(neighbors, train_accuracy, label='traing accuracy')\n",
    "plt.plot(neighbors, test_accuracy, label='test accuracy')\n",
    "plt.ylabel('Accuracy')\n",
    "plt.xlabel('# of Neighbors')\n",
    "plt.legend()\n",
    "\n"
   ]
  },
  {
   "cell_type": "code",
   "execution_count": null,
   "metadata": {},
   "outputs": [],
   "source": []
  }
 ],
 "metadata": {
  "kernelspec": {
   "display_name": "Python 3 (ipykernel)",
   "language": "python",
   "name": "python3"
  },
  "language_info": {
   "codemirror_mode": {
    "name": "ipython",
    "version": 3
   },
   "file_extension": ".py",
   "mimetype": "text/x-python",
   "name": "python",
   "nbconvert_exporter": "python",
   "pygments_lexer": "ipython3",
   "version": "3.11.6"
  }
 },
 "nbformat": 4,
 "nbformat_minor": 2
}
