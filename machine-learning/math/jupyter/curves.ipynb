{
 "cells": [
  {
   "cell_type": "code",
   "execution_count": 128,
   "metadata": {},
   "outputs": [
    {
     "name": "stderr",
     "output_type": "stream",
     "text": [
      "/var/folders/n9/qxcbnly54q5bwx8bvq8yz9rw0000gn/T/ipykernel_90475/1613139605.py:42: UserWarning: No artists with labels found to put in legend.  Note that artists whose label start with an underscore are ignored when legend() is called with no argument.\n",
      "  ax.legend(loc='upper right')\n"
     ]
    },
    {
     "data": {
      "image/png": "[encoded data removed]",
      "text/plain": [
       "<Figure size 600x600 with 1 Axes>"
      ]
     },
     "metadata": {},
     "output_type": "display_data"
    }
   ],
   "source": [
    "import numpy as np\n",
    "from numpy import sin, cos, pi\n",
    "import matplotlib.pyplot as plt\n",
    "\n",
    "\n",
    "def draw_XOY_coordinate(r: int) -> plt.Axes:\n",
    "    # Create the plot\n",
    "    fig, ax = plt.subplots(figsize=(6, 6))  # Keep the figure square\n",
    "\n",
    "    # 设置X轴和Y轴的边界，以免数轴末端的箭头无法显示\n",
    "    ax.set_xlim(-r-1, r+1)\n",
    "    ax.set_ylim(-r-1, r+1)\n",
    "\n",
    "    # 画出X轴和Y轴\n",
    "    ax.axhline(0, color='black', linewidth=1)\n",
    "    ax.axvline(0, color='black', linewidth=1)\n",
    "\n",
    "    # 绘制数轴末端的箭头\n",
    "    ax.quiver(r+0.8, 0, 0.2, 0, angles=\"xy\", scale_units=\"xy\", scale=1, color=\"black\")\n",
    "    ax.quiver(0, r+0.8, 0, 0.2, angles=\"xy\", scale_units=\"xy\", scale=1, color=\"black\")\n",
    "\n",
    "    # 在数轴上写出文字\"X\"与\"Y\"\n",
    "    ax.text(r+0.8, 0.2, \"X\", fontsize=13, ha=\"center\")\n",
    "    ax.text(-0.3, r+0.8, \"Y\", fontsize=13, ha='center')\n",
    "\n",
    "    # 把左边框和下边框移至中间，使其与数轴重合\n",
    "    ax.spines['left'].set_position('zero')\n",
    "    ax.spines['bottom'].set_position('zero')\n",
    "\n",
    "    # 隐藏上边框和右边框\n",
    "    ax.spines['right'].set_color('none')\n",
    "    ax.spines['top'].set_color('none')\n",
    "\n",
    "    # 在数轴上标出各个点\n",
    "    ax.set_xticks(np.arange(-r, r+1, 1))  # X-axis ticks from -5 to 5 with a step of 1\n",
    "    ax.set_yticks(np.arange(-r, r+1, 1))  # Y-axis ticks from -5 to 5 with a step of 1\n",
    "\n",
    "    # 确保绘制的圆不扭曲\n",
    "    ax.set_aspect('equal')\n",
    "\n",
    "    # Add grid and labels\n",
    "    ax.legend(loc='upper right')\n",
    "\n",
    "    return ax\n",
    "\n",
    "\n",
    "def draw_circle(ax: plt.Axes, \n",
    "                center_x,       # 圆心 X 坐标\n",
    "                center_y,       # 圆心 Y 坐标\n",
    "                r,              # 半径\n",
    "                theta_start,    # 起始角 \n",
    "                theta_end,      # 结束角\n",
    "                c               # 颜色\n",
    "                ):\n",
    "    theta_range = np.linspace(theta_start, theta_end, 500)\n",
    "    x = r * cos(theta_range) + center_x\n",
    "    y = r * sin(theta_range) + center_y\n",
    "    ax.plot(x, y, color=c)\n",
    "\n",
    "\n",
    "r1 = 3\n",
    "ax = draw_XOY_coordinate(r1)\n",
    "\n",
    "draw_circle(ax, 0, 0, r1, 0, 0.5*pi, 'blue')\n",
    "\n",
    "\n",
    "plt.show()"
   ]
  }
 ],
 "metadata": {
  "kernelspec": {
   "display_name": "Python 3 (ipykernel)",
   "language": "python",
   "name": "python3"
  },
  "language_info": {
   "codemirror_mode": {
    "name": "ipython",
    "version": 3
   },
   "file_extension": ".py",
   "mimetype": "text/x-python",
   "name": "python",
   "nbconvert_exporter": "python",
   "pygments_lexer": "ipython3",
   "version": "3.11.11"
  }
 },
 "nbformat": 4,
 "nbformat_minor": 2
}
